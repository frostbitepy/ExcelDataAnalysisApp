{
 "cells": [
  {
   "cell_type": "code",
   "execution_count": 29,
   "metadata": {},
   "outputs": [],
   "source": [
    "import pandas as pd\n",
    "import numpy as np\n",
    "import matplotlib.pyplot as plt\n",
    "import openpyxl\n",
    "import graphing\n",
    "import preprocessing\n",
    "from preprocessing import remove_columns, eliminar_filas_por_valor, unique_values, filter_values, suma_columna, remove_columns_with_nulls, eliminar_nulls\n",
    "from excel_formulas import rrc_unidad, reserva_de_riesgo_en_curso, calcular_devengamiento, calcular_plazo, generar_devengado, generar_rrc_unidad"
   ]
  },
  {
   "cell_type": "code",
   "execution_count": 30,
   "metadata": {},
   "outputs": [],
   "source": [
    "# Replace 'your_data.xlsx' with the actual path to your Excel file\n",
    "file_path = 'SINIESTRO21-22.xlsx'\n",
    "template_file_path = 'ProduccionAutomovil2022-edited.xlsx'"
   ]
  },
  {
   "cell_type": "code",
   "execution_count": 31,
   "metadata": {},
   "outputs": [],
   "source": [
    "# Read the excel file\n",
    "df_original = pd.read_excel(file_path)\n",
    "\n",
    "df_template = pd.read_excel(template_file_path)"
   ]
  },
  {
   "cell_type": "code",
   "execution_count": 32,
   "metadata": {},
   "outputs": [],
   "source": [
    "# Remove columns that are not needed\n",
    "df = remove_columns(df_original, df_template)\n",
    "# df.head()"
   ]
  },
  {
   "cell_type": "code",
   "execution_count": 33,
   "metadata": {},
   "outputs": [],
   "source": [
    "# Listado de productos a utilizar\n",
    "valid_products = ['AUTOMOVIL- ALTA GAMA','PLAN ACCIONISTAS','REGIONAL','REGIONAL - ITAIPU / CONMEBOL','REGIONAL 0KM','REGIONAL MAX','REGIONAL PLUS','REGIONAL SUPERIOR']\n",
    "\n",
    "# Utilizar solo los productos validos\n",
    "df = filter_values(df, 'Nombre Producto', valid_products)\n",
    "\n",
    "# Elininar filas de anulaciones\n",
    "df = eliminar_filas_por_valor(df, 'Nombre Tipo Póliza', 'Anulacion')"
   ]
  },
  {
   "cell_type": "code",
   "execution_count": 34,
   "metadata": {},
   "outputs": [
    {
     "data": {
      "text/plain": [
       "Index(['Nombre Tipo Póliza', 'F/Emisión', 'Fec. Desde', 'Fec. Hasta',\n",
       "       'Nombre Producto', 'Fec. Desde Art.', 'Fec. Hasta Art.', 'Prima Art.'],\n",
       "      dtype='object')"
      ]
     },
     "execution_count": 34,
     "metadata": {},
     "output_type": "execute_result"
    }
   ],
   "source": [
    "# Show columns\n",
    "df.columns"
   ]
  },
  {
   "cell_type": "code",
   "execution_count": 35,
   "metadata": {},
   "outputs": [],
   "source": [
    "# Crear columna de Plazo\n",
    "df['Plazo'] = df['Fec. Hasta Art.'] - df['Fec. Desde Art.']"
   ]
  },
  {
   "cell_type": "code",
   "execution_count": 36,
   "metadata": {},
   "outputs": [
    {
     "name": "stdout",
     "output_type": "stream",
     "text": [
      "Longitud original: 224\n"
     ]
    }
   ],
   "source": [
    "# Show columns\n",
    "df.columns\n",
    "print(\"Longitud original:\", len(df))"
   ]
  },
  {
   "cell_type": "code",
   "execution_count": 37,
   "metadata": {},
   "outputs": [],
   "source": [
    "from datetime import datetime, timedelta\n",
    "\n",
    "# Crear variable inicio corte y fin corte en formato fecha\n",
    "inicio_corte = '2022-07-01'\n",
    "fin_corte = '2023-06-30'\n",
    "\n",
    "# Asegúrate de que las columnas existan y luego crear columna de Devengado\n",
    "columna1 = 'Fec. Desde Art.'\n",
    "columna2 = 'Fec. Desde Art.'\n",
    "\n",
    "if columna1 in df.columns and columna2 in df.columns:\n",
    "    nuevo_df = generar_devengado(df, columna1, columna2, inicio_corte, fin_corte)\n",
    "    if nuevo_df is not None:\n",
    "        df = nuevo_df\n",
    "else:\n",
    "    print(f\"Las columnas {columna1} y/o {columna2} no están presentes en el DataFrame.\")"
   ]
  },
  {
   "cell_type": "code",
   "execution_count": 38,
   "metadata": {},
   "outputs": [
    {
     "data": {
      "text/plain": [
       "Index(['Nombre Tipo Póliza', 'F/Emisión', 'Fec. Desde', 'Fec. Hasta',\n",
       "       'Nombre Producto', 'Fec. Desde Art.', 'Fec. Hasta Art.', 'Prima Art.',\n",
       "       'Plazo', 'Devengado'],\n",
       "      dtype='object')"
      ]
     },
     "execution_count": 38,
     "metadata": {},
     "output_type": "execute_result"
    }
   ],
   "source": [
    "# Show columns\n",
    "df.columns"
   ]
  },
  {
   "cell_type": "code",
   "execution_count": 39,
   "metadata": {},
   "outputs": [
    {
     "data": {
      "text/plain": [
       "Index(['Nombre Tipo Póliza', 'F/Emisión', 'Fec. Desde', 'Fec. Hasta',\n",
       "       'Nombre Producto', 'Fec. Desde Art.', 'Fec. Hasta Art.', 'Prima Art.',\n",
       "       'Plazo', 'Devengado', 'RRC Unidad'],\n",
       "      dtype='object')"
      ]
     },
     "execution_count": 39,
     "metadata": {},
     "output_type": "execute_result"
    }
   ],
   "source": [
    "# Generate the \"RRC Unidad\" column using the function\n",
    "df = generar_rrc_unidad(df, 'Plazo', 'Devengado')\n",
    "\n",
    "# Show columns\n",
    "df.columns"
   ]
  },
  {
   "cell_type": "code",
   "execution_count": 40,
   "metadata": {},
   "outputs": [
    {
     "data": {
      "text/plain": [
       "Index(['Nombre Tipo Póliza', 'F/Emisión', 'Fec. Desde', 'Fec. Hasta',\n",
       "       'Nombre Producto', 'Fec. Desde Art.', 'Fec. Hasta Art.', 'Prima Art.',\n",
       "       'Plazo', 'Devengado', 'RRC Unidad', 'RRC'],\n",
       "      dtype='object')"
      ]
     },
     "execution_count": 40,
     "metadata": {},
     "output_type": "execute_result"
    }
   ],
   "source": [
    "# Convert datetime column 'Plazo' to numeric (number of days)\n",
    "df['Plazo_numeric'] = df['Plazo'].dt.days\n",
    "\n",
    "# Generate the \"RRC\" column using the function\n",
    "df['RRC'] = reserva_de_riesgo_en_curso(df['Prima Art.'], df['Plazo_numeric'], df['RRC Unidad'])\n",
    "\n",
    "# Drop the intermediate numeric column if you don't need it anymore\n",
    "df.drop('Plazo_numeric', axis=1, inplace=True)\n",
    "\n",
    "# Show columns\n",
    "df.columns"
   ]
  },
  {
   "cell_type": "code",
   "execution_count": 41,
   "metadata": {},
   "outputs": [
    {
     "name": "stdout",
     "output_type": "stream",
     "text": [
      "Suma RRC:  0.0\n"
     ]
    }
   ],
   "source": [
    "# Sumar la columna RRC\n",
    "suma_rrc = suma_columna(df,'RRC')\n",
    "print('Suma RRC: ',suma_rrc)"
   ]
  },
  {
   "cell_type": "code",
   "execution_count": 42,
   "metadata": {},
   "outputs": [],
   "source": [
    "# Return excel file\n",
    "df.to_excel('ResultadoProduccion.xlsx', index=False)\n",
    "print(\"Longitud:\", len(df))"
   ]
  }
 ],
 "metadata": {
  "kernelspec": {
   "display_name": "venv",
   "language": "python",
   "name": "python3"
  },
  "language_info": {
   "codemirror_mode": {
    "name": "ipython",
    "version": 3
   },
   "file_extension": ".py",
   "mimetype": "text/x-python",
   "name": "python",
   "nbconvert_exporter": "python",
   "pygments_lexer": "ipython3",
   "version": "3.11.3"
  }
 },
 "nbformat": 4,
 "nbformat_minor": 2
}
