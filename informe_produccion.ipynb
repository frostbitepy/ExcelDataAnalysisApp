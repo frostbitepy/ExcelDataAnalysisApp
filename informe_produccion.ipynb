{
 "cells": [
  {
   "cell_type": "code",
   "execution_count": 1,
   "metadata": {},
   "outputs": [],
   "source": [
    "import pandas as pd\n",
    "import numpy as np\n",
    "import matplotlib.pyplot as plt\n",
    "import openpyxl\n",
    "import graphing\n",
    "import preprocessing\n",
    "from preprocessing import remove_columns, eliminar_filas_por_valor, unique_values, filter_values, suma_columna, remove_columns_with_nulls, eliminar_nulls\n",
    "from excel_formulas import rrc_unidad, reserva_de_riesgo_en_curso, calcular_plazo, generar_devengado, generar_rrc_unidad"
   ]
  },
  {
   "cell_type": "code",
   "execution_count": 2,
   "metadata": {},
   "outputs": [],
   "source": [
    "# Replace 'your_data.xlsx' with the actual path to your Excel file\n",
    "file_path = 'PRODUCCION22-23.xlsx'\n",
    "template_file_path = 'ProduccionAutomovil2022-edited.xlsx'"
   ]
  },
  {
   "cell_type": "code",
   "execution_count": 3,
   "metadata": {},
   "outputs": [],
   "source": [
    "# Read the excel file\n",
    "df_original = pd.read_excel(file_path)\n",
    "\n",
    "df_template = pd.read_excel(template_file_path)"
   ]
  },
  {
   "cell_type": "code",
   "execution_count": 4,
   "metadata": {},
   "outputs": [],
   "source": [
    "# Remove columns that are not needed\n",
    "df = remove_columns(df_original, df_template)\n",
    "# df.head()"
   ]
  },
  {
   "cell_type": "code",
   "execution_count": 5,
   "metadata": {},
   "outputs": [],
   "source": [
    "# Generate excel file with the data\n",
    "# df.to_excel('output.xlsx')"
   ]
  },
  {
   "cell_type": "code",
   "execution_count": 6,
   "metadata": {},
   "outputs": [],
   "source": [
    "# Listado de productos a utilizar\n",
    "valid_products = ['AUTOMOVIL- ALTA GAMA','PLAN ACCIONISTAS','REGIONAL','REGIONAL - ITAIPU / CONMEBOL','REGIONAL 0KM','REGIONAL MAX','REGIONAL PLUS','REGIONAL SUPERIOR']\n",
    "\n",
    "# Utilizar solo los productos validos\n",
    "df = filter_values(df, 'Nombre Producto', valid_products)\n",
    "\n",
    "# Elininar filas de anulaciones\n",
    "df = eliminar_filas_por_valor(df, 'Nombre Tipo Póliza', 'Anulacion')"
   ]
  },
  {
   "cell_type": "code",
   "execution_count": null,
   "metadata": {},
   "outputs": [],
   "source": [
    "# Generate excel file with the data\n",
    "# df.to_excel('output.xlsx')"
   ]
  },
  {
   "cell_type": "code",
   "execution_count": 7,
   "metadata": {},
   "outputs": [
    {
     "data": {
      "text/plain": [
       "Index(['Nombre Tipo Póliza', 'F/Emisión', 'Fec. Desde', 'Fec. Hasta',\n",
       "       'Nombre Producto', 'Fec. Desde Art.', 'Fec. Hasta Art.', 'Prima Art.'],\n",
       "      dtype='object')"
      ]
     },
     "execution_count": 7,
     "metadata": {},
     "output_type": "execute_result"
    }
   ],
   "source": [
    "# Show columns\n",
    "df.columns"
   ]
  },
  {
   "cell_type": "code",
   "execution_count": 24,
   "metadata": {},
   "outputs": [],
   "source": [
    "# Crear columna de Plazo\n",
    "df['Plazo'] = df['Fec. Hasta Art.'] - df['Fec. Desde Art.']"
   ]
  },
  {
   "cell_type": "code",
   "execution_count": 25,
   "metadata": {},
   "outputs": [
    {
     "name": "stdout",
     "output_type": "stream",
     "text": [
      "Index(['Nombre Tipo Póliza', 'F/Emisión', 'Fec. Desde', 'Fec. Hasta',\n",
      "       'Nombre Producto', 'Fec. Desde Art.', 'Fec. Hasta Art.', 'Prima Art.',\n",
      "       'Plazo', 'Devengado', 'RRC Unidad'],\n",
      "      dtype='object')\n",
      "Longitud original: 179\n"
     ]
    }
   ],
   "source": [
    "# Show columns\n",
    "print(df.columns)\n",
    "print(\"Longitud original:\", len(df))"
   ]
  },
  {
   "cell_type": "code",
   "execution_count": null,
   "metadata": {},
   "outputs": [],
   "source": [
    "# Generate excel file with the data\n",
    "# df.to_excel('output.xlsx')"
   ]
  },
  {
   "cell_type": "code",
   "execution_count": 26,
   "metadata": {},
   "outputs": [],
   "source": [
    "from datetime import datetime, timedelta\n",
    "\n",
    "# Crear variable inicio corte y fin corte en formato fecha\n",
    "inicio_corte = '2022-07-01'\n",
    "fin_corte = '2023-06-30'\n",
    "\n",
    "# Convert 'inicio_corte' and 'fin_corte' to datetime objects\n",
    "inicio_corte = pd.to_datetime(inicio_corte)\n",
    "fin_corte = pd.to_datetime(fin_corte)\n",
    "\n",
    "# Apply the function to create the 'Devengado' column\n",
    "df['Devengado'] = df.apply(lambda row: generar_devengado(row, inicio_corte, fin_corte), axis=1)"
   ]
  },
  {
   "cell_type": "code",
   "execution_count": 27,
   "metadata": {},
   "outputs": [
    {
     "name": "stdout",
     "output_type": "stream",
     "text": [
      "Index(['Nombre Tipo Póliza', 'F/Emisión', 'Fec. Desde', 'Fec. Hasta',\n",
      "       'Nombre Producto', 'Fec. Desde Art.', 'Fec. Hasta Art.', 'Prima Art.',\n",
      "       'Plazo', 'Devengado', 'RRC Unidad'],\n",
      "      dtype='object')\n",
      "Longitud original: 179\n"
     ]
    }
   ],
   "source": [
    "# Show columns\n",
    "print(df.columns)\n",
    "print(\"Longitud original:\", len(df))"
   ]
  },
  {
   "cell_type": "code",
   "execution_count": null,
   "metadata": {},
   "outputs": [],
   "source": [
    "# Generate excel file with the data\n",
    "# df.to_excel('output.xlsx')"
   ]
  },
  {
   "cell_type": "code",
   "execution_count": 30,
   "metadata": {},
   "outputs": [
    {
     "data": {
      "text/plain": [
       "Index(['Nombre Tipo Póliza', 'F/Emisión', 'Fec. Desde', 'Fec. Hasta',\n",
       "       'Nombre Producto', 'Fec. Desde Art.', 'Fec. Hasta Art.', 'Prima Art.',\n",
       "       'Plazo', 'Devengado', 'RRC Unidad'],\n",
       "      dtype='object')"
      ]
     },
     "execution_count": 30,
     "metadata": {},
     "output_type": "execute_result"
    }
   ],
   "source": [
    "# Show columns\n",
    "df.columns"
   ]
  },
  {
   "cell_type": "code",
   "execution_count": 29,
   "metadata": {},
   "outputs": [
    {
     "data": {
      "text/plain": [
       "Index(['Nombre Tipo Póliza', 'F/Emisión', 'Fec. Desde', 'Fec. Hasta',\n",
       "       'Nombre Producto', 'Fec. Desde Art.', 'Fec. Hasta Art.', 'Prima Art.',\n",
       "       'Plazo', 'Devengado', 'RRC Unidad'],\n",
       "      dtype='object')"
      ]
     },
     "execution_count": 29,
     "metadata": {},
     "output_type": "execute_result"
    }
   ],
   "source": [
    "# Crear columna RRC Unidad\n",
    "df['RRC Unidad'] = np.where(df['Plazo'] > pd.Timedelta(0), df['Devengado'] / df['Plazo'].dt.days, \"\")\n",
    "\n",
    "# Show columns\n",
    "df.columns"
   ]
  },
  {
   "cell_type": "code",
   "execution_count": 16,
   "metadata": {},
   "outputs": [],
   "source": [
    "# Generate excel\n",
    "# df.to_excel('output.xlsx')"
   ]
  },
  {
   "cell_type": "code",
   "execution_count": null,
   "metadata": {},
   "outputs": [],
   "source": [
    "# Convert 'Plazo' to floats\n",
    "df['Plazo'] = df['Plazo'].dt.days.astype(float)\n",
    "\n",
    "# Convert 'RRC Unidad' to floats\n",
    "df['RRC Unidad'] = df['RRC Unidad'].astype(float)\n"
   ]
  },
  {
   "cell_type": "code",
   "execution_count": 35,
   "metadata": {},
   "outputs": [
    {
     "data": {
      "text/plain": [
       "Index(['Nombre Tipo Póliza', 'F/Emisión', 'Fec. Desde', 'Fec. Hasta',\n",
       "       'Nombre Producto', 'Fec. Desde Art.', 'Fec. Hasta Art.', 'Prima Art.',\n",
       "       'Plazo', 'Devengado', 'RRC Unidad', 'RRC'],\n",
       "      dtype='object')"
      ]
     },
     "execution_count": 35,
     "metadata": {},
     "output_type": "execute_result"
    }
   ],
   "source": [
    "\n",
    "# Create column 'RRC'\n",
    "df['RRC'] = np.where((df['Plazo'] > 0) & (df['RRC Unidad'] > 0), df['RRC Unidad'] * df['Prima Art.'], 0)\n",
    "\n",
    "# Show columns\n",
    "df.columns"
   ]
  },
  {
   "cell_type": "code",
   "execution_count": 36,
   "metadata": {},
   "outputs": [],
   "source": [
    "# Generate excel\n",
    "df.to_excel('output.xlsx')"
   ]
  },
  {
   "cell_type": "code",
   "execution_count": 37,
   "metadata": {},
   "outputs": [
    {
     "name": "stdout",
     "output_type": "stream",
     "text": [
      "Suma RRC:  555928737.3972945\n"
     ]
    }
   ],
   "source": [
    "# Sumar la columna RRC\n",
    "suma_rrc = suma_columna(df,'RRC')\n",
    "print('Suma RRC: ',suma_rrc)"
   ]
  },
  {
   "cell_type": "code",
   "execution_count": 38,
   "metadata": {},
   "outputs": [
    {
     "name": "stdout",
     "output_type": "stream",
     "text": [
      "Longitud: 179\n"
     ]
    }
   ],
   "source": [
    "# Return excel file\n",
    "df.to_excel('ResultadoProduccion.xlsx', index=False)\n",
    "print(\"Longitud:\", len(df))"
   ]
  },
  {
   "cell_type": "code",
   "execution_count": 39,
   "metadata": {},
   "outputs": [
    {
     "name": "stdout",
     "output_type": "stream",
     "text": [
      "Longitud: 161\n"
     ]
    }
   ],
   "source": [
    "# Contar las filas donde los valores de la columna RRC no sean cero\n",
    "df_rrc = df[df['RRC'] != 0]\n",
    "print(\"Longitud:\", len(df_rrc))"
   ]
  }
 ],
 "metadata": {
  "kernelspec": {
   "display_name": "venv",
   "language": "python",
   "name": "python3"
  },
  "language_info": {
   "codemirror_mode": {
    "name": "ipython",
    "version": 3
   },
   "file_extension": ".py",
   "mimetype": "text/x-python",
   "name": "python",
   "nbconvert_exporter": "python",
   "pygments_lexer": "ipython3",
   "version": "3.11.3"
  }
 },
 "nbformat": 4,
 "nbformat_minor": 2
}
