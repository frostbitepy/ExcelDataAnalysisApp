{
 "cells": [
  {
   "cell_type": "code",
   "execution_count": 1,
   "metadata": {},
   "outputs": [],
   "source": [
    "import pandas as pd\n",
    "import numpy as np\n",
    "import matplotlib.pyplot as plt\n",
    "import openpyxl\n",
    "import graphing\n",
    "import preprocessing\n",
    "from preprocessing import remove_columns, eliminar_filas_por_valor, unique_values, filter_values, suma_columna, remove_columns_with_nulls, eliminar_nulls"
   ]
  },
  {
   "cell_type": "code",
   "execution_count": 2,
   "metadata": {},
   "outputs": [],
   "source": [
    "# Replace 'your_data.xlsx' with the actual path to your Excel file\n",
    "file_path = 'SINIESTRO21-22.xlsx'\n",
    "template_file_path = 'SiniestrosAutomovil2022-edited.xlsx'"
   ]
  },
  {
   "cell_type": "code",
   "execution_count": 4,
   "metadata": {},
   "outputs": [],
   "source": [
    "# Read the excel file\n",
    "df_original = pd.read_excel(file_path)\n",
    "\n",
    "df_template = pd.read_excel(template_file_path)"
   ]
  },
  {
   "cell_type": "code",
   "execution_count": 5,
   "metadata": {},
   "outputs": [],
   "source": [
    "# Remove columns that are not needed\n",
    "df = remove_columns(df_original, df_template)\n",
    "# df.head()"
   ]
  },
  {
   "cell_type": "code",
   "execution_count": 6,
   "metadata": {},
   "outputs": [],
   "source": [
    "df = eliminar_filas_por_valor(df, 'Nombre Tipo Póliza', 'Anulación')"
   ]
  },
  {
   "cell_type": "code",
   "execution_count": 7,
   "metadata": {},
   "outputs": [
    {
     "name": "stdout",
     "output_type": "stream",
     "text": [
      "[nan, 'REGIONAL - GS', 'ACOPLADO O CARRETA- GS', 'GS- RC- AUTOMOVILES', 'RESP. CIVIL CARRETA O ACOP. PLUS', 'CAMIONES GS', 'PERDIDA TOTAL - MOTOCICLETAS', 'RESP. CIVIL CAMIONES - PLUS', 'GS -REGIONAL 0KM', 'PERDIDA TOTAL - GS', 'REGIONAL SUPERIOR', 'RESP. CIVIL AUTOMOVILES -  PLUS', 'RESP. CIVIL AUTOMOVIL - SUPERIOR 2', 'CHILE - REG- GS', 'REGIONAL - ITAIPU / CONMEBOL', 'ACOPLADO O CARRETA PLUS', 'GS-REGIONAL PLUS/MAX', 'MOTOS ALTA GAMA REG/SUDAMERIS- GS', 'ACOPLADO O CARRETA SUPERIOR 2', 'CAMIONES SUPERIOR 2', 'RESP. CIVIL  CARRETA O ACOPLADO GS', 'GS REGIONAL- ALTA GAMA', 'REGIONAL MAX', 'REGIONAL- KUROSU / SETAC', 'RESP. CIVIL AUTOMOVILES - SUPERIOR 1', 'RESP. CIVIL CAMIONES - SUPERIOR 2', 'CAMIONES PLUS', 'REGIONAL - MOTOCICLETAS -GS', 'RESP. CIVIL CAMIONES GS', 'RESPONSABILIDAD CIVIL & CARTA VERDE', 'ACOPLADO O CARRETA - SUPERIOR 1', 'REGIONAL- FUN.ORSA', 'FUNCIONARIOS BANCO REGIONAL', 'PERDIDA TOTAL - PLUS', 'RESPONSABILIDAD CIVIL -  MOTOCICLETAS', 'GS- REGIONAL - SUDAMERIS', 'RESP. CIVIL  CARRETA O ACOP. SUPERIOR 2', 'PLAN ACCIONISTAS', 'CAMIONES - SUPERIOR 1']\n"
     ]
    }
   ],
   "source": [
    "lista_productos = unique_values(df, 'Nombre Producto')\n",
    "print(lista_productos)"
   ]
  },
  {
   "cell_type": "code",
   "execution_count": 8,
   "metadata": {},
   "outputs": [],
   "source": [
    "valid_products = ['AUTOMOVIL- ALTA GAMA','PLAN ACCIONISTAS','REGIONAL','REGIONAL - ITAIPU / CONMEBOL','REGIONAL 0KM','REGIONAL MAX','REGIONAL PLUS','REGIONAL SUPERIOR']"
   ]
  },
  {
   "cell_type": "code",
   "execution_count": 9,
   "metadata": {},
   "outputs": [],
   "source": [
    "df = filter_values(df, 'Nombre Producto', valid_products)"
   ]
  },
  {
   "cell_type": "code",
   "execution_count": 10,
   "metadata": {},
   "outputs": [],
   "source": [
    "\n",
    "df = eliminar_filas_por_valor(df, 'Nombre Tipo Póliza', 'Anulación')"
   ]
  },
  {
   "cell_type": "code",
   "execution_count": 11,
   "metadata": {},
   "outputs": [
    {
     "data": {
      "text/plain": [
       "Index(['Nombre Tipo Póliza', 'F/Emisión', 'Fec. Desde', 'Fec. Hasta',\n",
       "       'Nombre Producto', 'Fec. Desde Art.', 'Fec. Hasta Art.', 'Fec. Stro.',\n",
       "       'Stro. Auto Cobertura Básica 1'],\n",
       "      dtype='object')"
      ]
     },
     "execution_count": 11,
     "metadata": {},
     "output_type": "execute_result"
    }
   ],
   "source": [
    "df.columns"
   ]
  },
  {
   "cell_type": "code",
   "execution_count": 12,
   "metadata": {},
   "outputs": [
    {
     "name": "stdout",
     "output_type": "stream",
     "text": [
      "209050997\n",
      "<class 'pandas.core.frame.DataFrame'>\n",
      "Index: 210 entries, 89 to 9776\n",
      "Data columns (total 9 columns):\n",
      " #   Column                         Non-Null Count  Dtype         \n",
      "---  ------                         --------------  -----         \n",
      " 0   Nombre Tipo Póliza             210 non-null    object        \n",
      " 1   F/Emisión                      210 non-null    datetime64[ns]\n",
      " 2   Fec. Desde                     210 non-null    datetime64[ns]\n",
      " 3   Fec. Hasta                     210 non-null    datetime64[ns]\n",
      " 4   Nombre Producto                210 non-null    object        \n",
      " 5   Fec. Desde Art.                210 non-null    datetime64[ns]\n",
      " 6   Fec. Hasta Art.                210 non-null    datetime64[ns]\n",
      " 7   Fec. Stro.                     63 non-null     datetime64[ns]\n",
      " 8   Stro. Auto Cobertura Básica 1  210 non-null    int64         \n",
      "dtypes: datetime64[ns](6), int64(1), object(2)\n",
      "memory usage: 16.4+ KB\n",
      "210\n"
     ]
    }
   ],
   "source": [
    "sumatoria_siniestros = suma_columna(df, 'Stro. Auto Cobertura Básica 1')\n",
    "print(sumatoria_siniestros)\n",
    "df.info()\n",
    "print(len(df))"
   ]
  },
  {
   "cell_type": "code",
   "execution_count": 13,
   "metadata": {},
   "outputs": [],
   "source": [
    "df = eliminar_nulls(df, 'Fec. Stro.')"
   ]
  },
  {
   "cell_type": "code",
   "execution_count": 14,
   "metadata": {},
   "outputs": [
    {
     "name": "stdout",
     "output_type": "stream",
     "text": [
      "209050997\n",
      "<class 'pandas.core.frame.DataFrame'>\n",
      "Index: 63 entries, 700 to 9723\n",
      "Data columns (total 9 columns):\n",
      " #   Column                         Non-Null Count  Dtype         \n",
      "---  ------                         --------------  -----         \n",
      " 0   Nombre Tipo Póliza             63 non-null     object        \n",
      " 1   F/Emisión                      63 non-null     datetime64[ns]\n",
      " 2   Fec. Desde                     63 non-null     datetime64[ns]\n",
      " 3   Fec. Hasta                     63 non-null     datetime64[ns]\n",
      " 4   Nombre Producto                63 non-null     object        \n",
      " 5   Fec. Desde Art.                63 non-null     datetime64[ns]\n",
      " 6   Fec. Hasta Art.                63 non-null     datetime64[ns]\n",
      " 7   Fec. Stro.                     63 non-null     datetime64[ns]\n",
      " 8   Stro. Auto Cobertura Básica 1  63 non-null     int64         \n",
      "dtypes: datetime64[ns](6), int64(1), object(2)\n",
      "memory usage: 4.9+ KB\n"
     ]
    }
   ],
   "source": [
    "sumatoria_siniestros = suma_columna(df, 'Stro. Auto Cobertura Básica 1')\n",
    "print(sumatoria_siniestros)\n",
    "df.info()"
   ]
  },
  {
   "cell_type": "code",
   "execution_count": 15,
   "metadata": {},
   "outputs": [
    {
     "name": "stdout",
     "output_type": "stream",
     "text": [
      "63\n"
     ]
    }
   ],
   "source": [
    "# Print number of rows of my df\n",
    "print(len(df))"
   ]
  }
 ],
 "metadata": {
  "kernelspec": {
   "display_name": "venv",
   "language": "python",
   "name": "python3"
  },
  "language_info": {
   "codemirror_mode": {
    "name": "ipython",
    "version": 3
   },
   "file_extension": ".py",
   "mimetype": "text/x-python",
   "name": "python",
   "nbconvert_exporter": "python",
   "pygments_lexer": "ipython3",
   "version": "3.11.3"
  }
 },
 "nbformat": 4,
 "nbformat_minor": 2
}
