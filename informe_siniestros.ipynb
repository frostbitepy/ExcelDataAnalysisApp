{
 "cells": [
  {
   "cell_type": "code",
   "execution_count": 43,
   "metadata": {},
   "outputs": [],
   "source": [
    "import pandas as pd\n",
    "import numpy as np\n",
    "import matplotlib.pyplot as plt\n",
    "import openpyxl\n",
    "from preprocessing import remove_columns, unique_values, filter_values, suma_columna, eliminar_nulls"
   ]
  },
  {
   "cell_type": "code",
   "execution_count": 44,
   "metadata": {},
   "outputs": [],
   "source": [
    "# Replace 'your_data.xlsx' with the actual path to your Excel file\n",
    "file_path = 'SINIESTRO21-22.xlsx'\n",
    "template_file_path = 'SiniestrosAutomovil2022-edited.xlsx'"
   ]
  },
  {
   "cell_type": "code",
   "execution_count": 45,
   "metadata": {},
   "outputs": [],
   "source": [
    "# Read the excel file\n",
    "df_original = pd.read_excel(file_path)\n",
    "\n",
    "df_template = pd.read_excel(template_file_path)"
   ]
  },
  {
   "cell_type": "code",
   "execution_count": 46,
   "metadata": {},
   "outputs": [],
   "source": [
    "# Remove columns that are not needed\n",
    "df = remove_columns(df_original, df_template)\n",
    "# df.head()"
   ]
  },
  {
   "cell_type": "code",
   "execution_count": 47,
   "metadata": {},
   "outputs": [],
   "source": [
    "# df = eliminar_filas_por_valor(df, 'Nombre Tipo Póliza', 'Anulación')"
   ]
  },
  {
   "cell_type": "code",
   "execution_count": 48,
   "metadata": {},
   "outputs": [
    {
     "name": "stdout",
     "output_type": "stream",
     "text": [
      "[nan, 'REGIONAL - GS', 'REGIONAL SUPERIOR', 'GS- RC- AUTOMOVILES', 'PERDIDA TOTAL - GS', 'GS-REGIONAL PLUS/MAX', 'RESP. CIVIL CAMIONES - PLUS', 'CAMIONES PLUS', 'RESP. CIVIL CARRETA O ACOP. PLUS', 'REGIONAL MAX', 'MOTOS ALTA GAMA REG/SUDAMERIS- GS', 'PERDIDA TOTAL - MOTOCICLETAS', 'CAMIONES GS', 'CHILE - REG- GS', 'GS REGIONAL- ALTA GAMA', 'GS -REGIONAL 0KM', 'FUNCIONARIOS BANCO REGIONAL', 'ACOPLADO O CARRETA PLUS', 'RESP. CIVIL AUTOMOVILES -  PLUS', 'RESP. CIVIL  CARRETA O ACOP. SUPERIOR 2', 'RESP. CIVIL AUTOMOVILES - SUPERIOR 1', 'PLAN ACCIONISTAS', 'REGIONAL - ITAIPU / CONMEBOL', 'REGIONAL- KUROSU / SETAC', 'ACOPLADO O CARRETA- GS', 'ACOPLADO O CARRETA SUPERIOR 2', 'REGIONAL - MOTOCICLETAS -GS', 'RESP. CIVIL AUTOMOVIL - SUPERIOR 2', 'CAMIONES SUPERIOR 2', 'RESP. CIVIL CAMIONES - SUPERIOR 2', 'RESP. CIVIL  CARRETA O ACOPLADO GS', 'ACOPLADO O CARRETA - SUPERIOR 1', 'CAMIONES - SUPERIOR 1', 'RESPONSABILIDAD CIVIL -  MOTOCICLETAS', 'PERDIDA TOTAL - PLUS', 'RESP. CIVIL CAMIONES GS', 'INDEFINIDO', 'RESPONSABILIDAD CIVIL AUTOM.DIGITAL']\n"
     ]
    }
   ],
   "source": [
    "lista_productos = unique_values(df, 'Nombre Producto')\n",
    "print(lista_productos)"
   ]
  },
  {
   "cell_type": "code",
   "execution_count": 49,
   "metadata": {},
   "outputs": [],
   "source": [
    "valid_products = ['AUTOMOVIL- ALTA GAMA','PLAN ACCIONISTAS','REGIONAL','REGIONAL - ITAIPU / CONMEBOL','REGIONAL 0KM','REGIONAL MAX','REGIONAL PLUS','REGIONAL SUPERIOR']"
   ]
  },
  {
   "cell_type": "code",
   "execution_count": 50,
   "metadata": {},
   "outputs": [],
   "source": [
    "df = filter_values(df, 'Nombre Producto', valid_products)"
   ]
  },
  {
   "cell_type": "code",
   "execution_count": 51,
   "metadata": {},
   "outputs": [],
   "source": [
    "\n",
    "# df = eliminar_filas_por_valor(df, 'Nombre Tipo Póliza', 'Anulación')"
   ]
  },
  {
   "cell_type": "code",
   "execution_count": 52,
   "metadata": {},
   "outputs": [
    {
     "data": {
      "text/plain": [
       "Index(['Nombre Tipo Póliza', 'F/Emisión', 'Fec. Desde', 'Fec. Hasta',\n",
       "       'Nombre Producto', 'Fec. Desde Art.', 'Fec. Hasta Art.', 'Fec. Stro.',\n",
       "       'Stro. Auto Cobertura Básica 1'],\n",
       "      dtype='object')"
      ]
     },
     "execution_count": 52,
     "metadata": {},
     "output_type": "execute_result"
    }
   ],
   "source": [
    "df.columns"
   ]
  },
  {
   "cell_type": "code",
   "execution_count": 53,
   "metadata": {},
   "outputs": [
    {
     "name": "stdout",
     "output_type": "stream",
     "text": [
      "279343819\n",
      "<class 'pandas.core.frame.DataFrame'>\n",
      "Index: 241 entries, 23 to 10012\n",
      "Data columns (total 9 columns):\n",
      " #   Column                         Non-Null Count  Dtype         \n",
      "---  ------                         --------------  -----         \n",
      " 0   Nombre Tipo Póliza             241 non-null    object        \n",
      " 1   F/Emisión                      241 non-null    datetime64[ns]\n",
      " 2   Fec. Desde                     241 non-null    datetime64[ns]\n",
      " 3   Fec. Hasta                     241 non-null    datetime64[ns]\n",
      " 4   Nombre Producto                241 non-null    object        \n",
      " 5   Fec. Desde Art.                241 non-null    datetime64[ns]\n",
      " 6   Fec. Hasta Art.                241 non-null    datetime64[ns]\n",
      " 7   Fec. Stro.                     90 non-null     datetime64[ns]\n",
      " 8   Stro. Auto Cobertura Básica 1  241 non-null    int64         \n",
      "dtypes: datetime64[ns](6), int64(1), object(2)\n",
      "memory usage: 18.8+ KB\n",
      "241\n"
     ]
    }
   ],
   "source": [
    "sumatoria_siniestros = suma_columna(df, 'Stro. Auto Cobertura Básica 1')\n",
    "print(sumatoria_siniestros)\n",
    "df.info()\n",
    "print(len(df))"
   ]
  },
  {
   "cell_type": "code",
   "execution_count": 54,
   "metadata": {},
   "outputs": [],
   "source": [
    "df = eliminar_nulls(df, 'Fec. Stro.')"
   ]
  },
  {
   "cell_type": "code",
   "execution_count": 55,
   "metadata": {},
   "outputs": [
    {
     "name": "stdout",
     "output_type": "stream",
     "text": [
      "279343819\n",
      "<class 'pandas.core.frame.DataFrame'>\n",
      "Index: 90 entries, 198 to 9952\n",
      "Data columns (total 9 columns):\n",
      " #   Column                         Non-Null Count  Dtype         \n",
      "---  ------                         --------------  -----         \n",
      " 0   Nombre Tipo Póliza             90 non-null     object        \n",
      " 1   F/Emisión                      90 non-null     datetime64[ns]\n",
      " 2   Fec. Desde                     90 non-null     datetime64[ns]\n",
      " 3   Fec. Hasta                     90 non-null     datetime64[ns]\n",
      " 4   Nombre Producto                90 non-null     object        \n",
      " 5   Fec. Desde Art.                90 non-null     datetime64[ns]\n",
      " 6   Fec. Hasta Art.                90 non-null     datetime64[ns]\n",
      " 7   Fec. Stro.                     90 non-null     datetime64[ns]\n",
      " 8   Stro. Auto Cobertura Básica 1  90 non-null     int64         \n",
      "dtypes: datetime64[ns](6), int64(1), object(2)\n",
      "memory usage: 7.0+ KB\n"
     ]
    }
   ],
   "source": [
    "sumatoria_siniestros = suma_columna(df, 'Stro. Auto Cobertura Básica 1')\n",
    "print(sumatoria_siniestros)\n",
    "df.info()\n",
    "# 279343819"
   ]
  },
  {
   "cell_type": "code",
   "execution_count": 56,
   "metadata": {},
   "outputs": [
    {
     "name": "stdout",
     "output_type": "stream",
     "text": [
      "90\n"
     ]
    }
   ],
   "source": [
    "# Print number of rows of my df\n",
    "print(len(df))"
   ]
  },
  {
   "cell_type": "code",
   "execution_count": 57,
   "metadata": {},
   "outputs": [],
   "source": [
    "df.to_excel('result.xlsx', index=False)"
   ]
  }
 ],
 "metadata": {
  "kernelspec": {
   "display_name": "venv",
   "language": "python",
   "name": "python3"
  },
  "language_info": {
   "codemirror_mode": {
    "name": "ipython",
    "version": 3
   },
   "file_extension": ".py",
   "mimetype": "text/x-python",
   "name": "python",
   "nbconvert_exporter": "python",
   "pygments_lexer": "ipython3",
   "version": "3.11.3"
  }
 },
 "nbformat": 4,
 "nbformat_minor": 2
}
